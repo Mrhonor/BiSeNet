{
 "cells": [
  {
   "cell_type": "code",
   "execution_count": 3,
   "id": "26f03900-4495-4b43-a61b-b9c0a3b028b3",
   "metadata": {},
   "outputs": [],
   "source": [
    "from lib.models.bisenetv2_contrast import BiSeNetV2_Contrast\n",
    "from lib.module.module_helper import ConvBN\n",
    "import torch"
   ]
  },
  {
   "cell_type": "code",
   "execution_count": 3,
   "id": "89f3f06f-9a44-4cc3-80de-8edcb2952a10",
   "metadata": {},
   "outputs": [],
   "source": [
    "from tools.configer import Configer"
   ]
  },
  {
   "cell_type": "code",
   "execution_count": 4,
   "id": "8f4d16ff-cf3e-4637-b64d-72c65bca0250",
   "metadata": {},
   "outputs": [],
   "source": [
    "configer = Configer(configs='configs/bisenetv2_city_cam.json')"
   ]
  },
  {
   "cell_type": "code",
   "execution_count": 1,
   "id": "879e3f88-88b7-4f4d-97bf-8410e0353f70",
   "metadata": {},
   "outputs": [],
   "source": [
    "# net = BiSeNetV2_Contrast(configer=configer)\n"
   ]
  },
  {
   "cell_type": "code",
   "execution_count": 11,
   "id": "874f91b2-c984-40f0-8371-1aa8da381eb9",
   "metadata": {},
   "outputs": [],
   "source": [
    "im = torch.randn(2,3,512,1024)\n",
    "net.eval()\n",
    "out = net(im)\n",
    "net.train()\n",
    "loss = torch.sum(out['seg'][0][0])\n",
    "loss.backward()"
   ]
  },
  {
   "cell_type": "code",
   "execution_count": 28,
   "id": "4f295d98-9f34-4e48-86c2-9e21c86750de",
   "metadata": {},
   "outputs": [
    {
     "data": {
      "text/plain": [
       "ConvBN(\n",
       "  (conv): Conv2d(4, 3, kernel_size=(3, 3), stride=(1, 1), padding=(1, 1), bias=False)\n",
       "  (bn): ModuleList(\n",
       "    (0): BatchNorm2d(3, eps=1e-05, momentum=0.1, affine=False, track_running_stats=True)\n",
       "    (1): BatchNorm2d(3, eps=1e-05, momentum=0.1, affine=False, track_running_stats=True)\n",
       "  )\n",
       ")"
      ]
     },
     "execution_count": 28,
     "metadata": {},
     "output_type": "execute_result"
    }
   ],
   "source": [
    "net1 = ConvBN(4,3,n_bn=2)\n",
    "torch.save(net1.state_dict(), 'test.pth')\n",
    "net2 = ConvBN(4,3,n_bn=2)\n",
    "net2.load_state_dict(torch.load('test.pth', map_location='cpu'), strict=True)\n",
    "net1.train()\n",
    "net2.train()"
   ]
  },
  {
   "cell_type": "code",
   "execution_count": 13,
   "id": "e9f032b1-9c71-4682-a598-3d49f753df0e",
   "metadata": {},
   "outputs": [],
   "source": [
    "a = torch.randn(3, 4, 8, 8)\n",
    "b = torch.randn(3, 4, 8, 8)\n",
    "c = torch.randn(3, 4, 8, 8)\n",
    "d = torch.randn(3, 4, 8, 8)\n",
    "e = torch.randn(3, 4, 8, 8)\n",
    "f = torch.randn(3, 4, 8, 8)               \n",
    "g = torch.randn(3, 4, 8, 8)\n",
    "h = torch.randn(3, 4, 8, 8)\n",
    "i = torch.randn(3, 4, 8, 8)"
   ]
  },
  {
   "cell_type": "code",
   "execution_count": 29,
   "id": "b4e86d83-f533-4aff-bf62-84543a041851",
   "metadata": {},
   "outputs": [],
   "source": [
    "net1(0, a, b);\n",
    "net1(1, c, d);\n",
    "net1(0, e, f);\n",
    "net1(1, g, h);\n",
    "net2(0, a, b);\n",
    "net2(1, c, d);\n",
    "net2(0, e, f);\n",
    "net2(1, g, h);"
   ]
  },
  {
   "cell_type": "code",
   "execution_count": 30,
   "id": "277edfe8-f773-48cb-86a8-25a0fb8f096f",
   "metadata": {},
   "outputs": [],
   "source": [
    "out1 = net1(0, i, i)[1]\n",
    "net2.eval()\n",
    "out2 = net2(1, i)[0]"
   ]
  },
  {
   "cell_type": "code",
   "execution_count": 31,
   "id": "bb0d8b0d-642b-4359-b353-01a526d7330e",
   "metadata": {},
   "outputs": [
    {
     "data": {
      "text/plain": [
       "tensor([[[[True, True, True, True, True, True, True, True],\n",
       "          [True, True, True, True, True, True, True, True],\n",
       "          [True, True, True, True, True, True, True, True],\n",
       "          [True, True, True, True, True, True, True, True],\n",
       "          [True, True, True, True, True, True, True, True],\n",
       "          [True, True, True, True, True, True, True, True],\n",
       "          [True, True, True, True, True, True, True, True],\n",
       "          [True, True, True, True, True, True, True, True]],\n",
       "\n",
       "         [[True, True, True, True, True, True, True, True],\n",
       "          [True, True, True, True, True, True, True, True],\n",
       "          [True, True, True, True, True, True, True, True],\n",
       "          [True, True, True, True, True, True, True, True],\n",
       "          [True, True, True, True, True, True, True, True],\n",
       "          [True, True, True, True, True, True, True, True],\n",
       "          [True, True, True, True, True, True, True, True],\n",
       "          [True, True, True, True, True, True, True, True]],\n",
       "\n",
       "         [[True, True, True, True, True, True, True, True],\n",
       "          [True, True, True, True, True, True, True, True],\n",
       "          [True, True, True, True, True, True, True, True],\n",
       "          [True, True, True, True, True, True, True, True],\n",
       "          [True, True, True, True, True, True, True, True],\n",
       "          [True, True, True, True, True, True, True, True],\n",
       "          [True, True, True, True, True, True, True, True],\n",
       "          [True, True, True, True, True, True, True, True]]],\n",
       "\n",
       "\n",
       "        [[[True, True, True, True, True, True, True, True],\n",
       "          [True, True, True, True, True, True, True, True],\n",
       "          [True, True, True, True, True, True, True, True],\n",
       "          [True, True, True, True, True, True, True, True],\n",
       "          [True, True, True, True, True, True, True, True],\n",
       "          [True, True, True, True, True, True, True, True],\n",
       "          [True, True, True, True, True, True, True, True],\n",
       "          [True, True, True, True, True, True, True, True]],\n",
       "\n",
       "         [[True, True, True, True, True, True, True, True],\n",
       "          [True, True, True, True, True, True, True, True],\n",
       "          [True, True, True, True, True, True, True, True],\n",
       "          [True, True, True, True, True, True, True, True],\n",
       "          [True, True, True, True, True, True, True, True],\n",
       "          [True, True, True, True, True, True, True, True],\n",
       "          [True, True, True, True, True, True, True, True],\n",
       "          [True, True, True, True, True, True, True, True]],\n",
       "\n",
       "         [[True, True, True, True, True, True, True, True],\n",
       "          [True, True, True, True, True, True, True, True],\n",
       "          [True, True, True, True, True, True, True, True],\n",
       "          [True, True, True, True, True, True, True, True],\n",
       "          [True, True, True, True, True, True, True, True],\n",
       "          [True, True, True, True, True, True, True, True],\n",
       "          [True, True, True, True, True, True, True, True],\n",
       "          [True, True, True, True, True, True, True, True]]],\n",
       "\n",
       "\n",
       "        [[[True, True, True, True, True, True, True, True],\n",
       "          [True, True, True, True, True, True, True, True],\n",
       "          [True, True, True, True, True, True, True, True],\n",
       "          [True, True, True, True, True, True, True, True],\n",
       "          [True, True, True, True, True, True, True, True],\n",
       "          [True, True, True, True, True, True, True, True],\n",
       "          [True, True, True, True, True, True, True, True],\n",
       "          [True, True, True, True, True, True, True, True]],\n",
       "\n",
       "         [[True, True, True, True, True, True, True, True],\n",
       "          [True, True, True, True, True, True, True, True],\n",
       "          [True, True, True, True, True, True, True, True],\n",
       "          [True, True, True, True, True, True, True, True],\n",
       "          [True, True, True, True, True, True, True, True],\n",
       "          [True, True, True, True, True, True, True, True],\n",
       "          [True, True, True, True, True, True, True, True],\n",
       "          [True, True, True, True, True, True, True, True]],\n",
       "\n",
       "         [[True, True, True, True, True, True, True, True],\n",
       "          [True, True, True, True, True, True, True, True],\n",
       "          [True, True, True, True, True, True, True, True],\n",
       "          [True, True, True, True, True, True, True, True],\n",
       "          [True, True, True, True, True, True, True, True],\n",
       "          [True, True, True, True, True, True, True, True],\n",
       "          [True, True, True, True, True, True, True, True],\n",
       "          [True, True, True, True, True, True, True, True]]]])"
      ]
     },
     "execution_count": 31,
     "metadata": {},
     "output_type": "execute_result"
    }
   ],
   "source": [
    "out1 == out2"
   ]
  },
  {
   "cell_type": "code",
   "execution_count": 32,
   "id": "fff87260-c788-485e-a0b3-55c4cd4d5fc5",
   "metadata": {},
   "outputs": [],
   "source": [
    "sum1 = torch.sum(out1)\n",
    "sum2 = torch.sum(out2)"
   ]
  },
  {
   "cell_type": "code",
   "execution_count": 27,
   "id": "727c8bf2-42fc-479e-af1c-e9ad309eda87",
   "metadata": {},
   "outputs": [
    {
     "data": {
      "text/plain": [
       "Conv2d(4, 3, kernel_size=(3, 3), stride=(1, 1), padding=(1, 1), bias=False)"
      ]
     },
     "execution_count": 27,
     "metadata": {},
     "output_type": "execute_result"
    }
   ],
   "source": [
    "net1"
   ]
  },
  {
   "cell_type": "code",
   "execution_count": null,
   "id": "5faf9e47-599f-4574-b571-22f9f7057638",
   "metadata": {},
   "outputs": [],
   "source": []
  }
 ],
 "metadata": {
  "kernelspec": {
   "display_name": "Python 3",
   "language": "python",
   "name": "python3"
  },
  "language_info": {
   "codemirror_mode": {
    "name": "ipython",
    "version": 3
   },
   "file_extension": ".py",
   "mimetype": "text/x-python",
   "name": "python",
   "nbconvert_exporter": "python",
   "pygments_lexer": "ipython3",
   "version": "3.8.13"
  }
 },
 "nbformat": 4,
 "nbformat_minor": 5
}
